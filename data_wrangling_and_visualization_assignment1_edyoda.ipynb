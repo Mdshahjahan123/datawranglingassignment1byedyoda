{
 "cells": [
  {
   "cell_type": "code",
   "execution_count": 5,
   "id": "f3dad32a",
   "metadata": {},
   "outputs": [
    {
     "data": {
      "text/plain": [
       "array([0, 0, 0, 0, 1, 0, 0, 0, 0, 0])"
      ]
     },
     "execution_count": 5,
     "metadata": {},
     "output_type": "execute_result"
    }
   ],
   "source": [
    "#1. Create a null vector of size 10 but the fifth value which is 1.\n",
    "import numpy as np \n",
    "(np.arange(10)==4).astype(int)\n"
   ]
  },
  {
   "cell_type": "code",
   "execution_count": 6,
   "id": "c3ee453c",
   "metadata": {},
   "outputs": [
    {
     "data": {
      "text/plain": [
       "array([10, 11, 12, 13, 14, 15, 16, 17, 18, 19, 20, 21, 22, 23, 24, 25, 26,\n",
       "       27, 28, 29, 30, 31, 32, 33, 34, 35, 36, 37, 38, 39, 40, 41, 42, 43,\n",
       "       44, 45, 46, 47, 48, 49])"
      ]
     },
     "execution_count": 6,
     "metadata": {},
     "output_type": "execute_result"
    }
   ],
   "source": [
    "#2. Create a vector with values ranging from 10 to 49.\n",
    "np.arange(10,50)"
   ]
  },
  {
   "cell_type": "code",
   "execution_count": 7,
   "id": "08f2dec9",
   "metadata": {},
   "outputs": [
    {
     "name": "stdout",
     "output_type": "stream",
     "text": [
      "[[0 1 2]\n",
      " [3 4 5]\n",
      " [6 7 8]]\n"
     ]
    }
   ],
   "source": [
    "#3. Create a 3x3 matrix with values ranging from 0 to 8\n",
    "x=np.arange(0,9).reshape(3,3)\n",
    "print(x)"
   ]
  },
  {
   "cell_type": "code",
   "execution_count": 8,
   "id": "467f89ba",
   "metadata": {},
   "outputs": [
    {
     "name": "stdout",
     "output_type": "stream",
     "text": [
      "indices of non-zero elements are: (array([0, 1, 4], dtype=int64),)\n"
     ]
    }
   ],
   "source": [
    "#4. Find indices of non-zero elements from [1,2,0,0,4,0]\n",
    "x=np.array([1,2,0,0,4,0])\n",
    "print(\"indices of non-zero elements are:\",np.nonzero(x))"
   ]
  },
  {
   "cell_type": "code",
   "execution_count": 9,
   "id": "2b14ae34",
   "metadata": {},
   "outputs": [
    {
     "name": "stdout",
     "output_type": "stream",
     "text": [
      "Minimum vales: 0.00032143771941417487\n",
      "Maximum values: 0.996639743674005\n",
      "[[9.25047728e-01 8.46801337e-03 2.51820013e-01 7.63886094e-01\n",
      "  2.40903637e-01 4.39653273e-01 7.90989111e-01 9.38128518e-01\n",
      "  8.32116172e-01 7.24384860e-01]\n",
      " [7.79862136e-01 7.67213825e-01 5.00622997e-01 8.75331956e-01\n",
      "  7.06163088e-01 1.81163483e-01 5.28651632e-01 6.68416771e-01\n",
      "  3.82700994e-01 2.67918270e-01]\n",
      " [2.25936282e-01 2.16502279e-01 5.55397400e-02 1.40254368e-01\n",
      "  3.78725131e-01 5.05856648e-01 4.10007550e-01 3.94920046e-01\n",
      "  7.00658299e-01 9.49961461e-01]\n",
      " [3.30817321e-01 9.63609321e-01 7.57169904e-01 2.69497436e-01\n",
      "  1.65239605e-01 9.47242929e-01 9.53852219e-01 7.32282771e-01\n",
      "  9.32925940e-01 8.91624540e-01]\n",
      " [6.23839274e-01 6.42364106e-01 4.10990476e-01 8.49066154e-01\n",
      "  1.30439360e-01 3.61305869e-01 9.20671471e-01 7.28861036e-01\n",
      "  1.69531913e-01 3.01287160e-02]\n",
      " [1.63076188e-02 9.49522571e-01 4.70192317e-01 5.88868896e-01\n",
      "  6.76472334e-01 3.21437719e-04 7.41948806e-01 7.89164917e-01\n",
      "  9.32141076e-01 9.96639744e-01]\n",
      " [8.95290342e-01 9.74935074e-01 8.13678502e-01 4.97056818e-01\n",
      "  1.62593144e-01 3.81019176e-01 1.63895680e-01 7.26545833e-01\n",
      "  5.26600069e-01 8.91611442e-01]\n",
      " [7.16245744e-01 8.18969583e-01 5.04133617e-01 7.68665234e-01\n",
      "  3.62939803e-01 5.31138177e-01 2.23046161e-01 4.63252012e-02\n",
      "  2.05751171e-01 9.61697055e-01]\n",
      " [3.94465844e-01 4.08592057e-01 3.94557454e-01 3.36336446e-01\n",
      "  4.22521419e-01 1.02045381e-01 2.09227710e-01 3.55611851e-01\n",
      "  7.42143381e-01 4.42097437e-01]\n",
      " [3.40041701e-01 8.26368361e-01 1.99934025e-01 7.58392568e-01\n",
      "  8.67334071e-01 2.28035132e-01 6.56841017e-01 2.45088360e-01\n",
      "  1.55158674e-01 5.25733703e-01]]\n"
     ]
    }
   ],
   "source": [
    "#5. Create a 10x10 array with random values and find the minimum and maximum values.\n",
    "import random\n",
    "random.seed(10)\n",
    "x=np.random.random(size=(10,10))\n",
    "print(\"Minimum vales:\",x.min())\n",
    "print(\"Maximum values:\",x.max())\n",
    "print(x)\n"
   ]
  },
  {
   "cell_type": "code",
   "execution_count": 10,
   "id": "996f15ba",
   "metadata": {},
   "outputs": [
    {
     "name": "stdout",
     "output_type": "stream",
     "text": [
      "mean: 0.571315025978174\n"
     ]
    }
   ],
   "source": [
    "#6. Create a random vector of size 30 and find the mean value.\n",
    "arr=np.random.random((5,6))\n",
    "Mean_value_of_the_matrix=np.mean(arr)\n",
    "print(\"mean:\",Mean_value_of_the_matrix)"
   ]
  },
  {
   "cell_type": "code",
   "execution_count": null,
   "id": "3debf617",
   "metadata": {},
   "outputs": [],
   "source": []
  }
 ],
 "metadata": {
  "kernelspec": {
   "display_name": "Python 3 (ipykernel)",
   "language": "python",
   "name": "python3"
  },
  "language_info": {
   "codemirror_mode": {
    "name": "ipython",
    "version": 3
   },
   "file_extension": ".py",
   "mimetype": "text/x-python",
   "name": "python",
   "nbconvert_exporter": "python",
   "pygments_lexer": "ipython3",
   "version": "3.10.0"
  }
 },
 "nbformat": 4,
 "nbformat_minor": 5
}
